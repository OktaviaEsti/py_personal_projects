{
  "nbformat": 4,
  "nbformat_minor": 0,
  "metadata": {
    "colab": {
      "provenance": [],
      "authorship_tag": "ABX9TyND95zWAlurhO89gpXchk0w",
      "include_colab_link": true
    },
    "kernelspec": {
      "name": "python3",
      "display_name": "Python 3"
    },
    "language_info": {
      "name": "python"
    }
  },
  "cells": [
    {
      "cell_type": "markdown",
      "metadata": {
        "id": "view-in-github",
        "colab_type": "text"
      },
      "source": [
        "<a href=\"https://colab.research.google.com/github/OktaviaEsti/py_personal_projects/blob/master/pisah_log_antrol.ipynb\" target=\"_parent\"><img src=\"https://colab.research.google.com/assets/colab-badge.svg\" alt=\"Open In Colab\"/></a>"
      ]
    },
    {
      "cell_type": "code",
      "execution_count": 2,
      "metadata": {
        "id": "sXp8Emyhy8qG"
      },
      "outputs": [],
      "source": [
        "import pandas as pd\n",
        "\n",
        "readFileName = \"Log_example.xlsx\"\n",
        "df = pd.read_excel(readFileName)"
      ]
    },
    {
      "cell_type": "code",
      "source": [
        "#ambil nama 1 kolom untuk dipisah\n",
        "byColumn=\"PARAM KIRIM\"\n",
        "for i in df.index:\n",
        "  if '\":0' or '\":1' or '\":2' or '\":3' or '\":4' or '\":5' or '\":6' or '\":7' or '\":8' or '\":9' in df[byColumn].iloc[i]:\n",
        "    df[byColumn].iloc[i] = df[byColumn].iloc[i].replace('\":0','_0').replace('\":1','_1').replace('\":2','_2').replace('\":3','_3').replace('\":4','_4').replace('\":5','_5').replace('\":6','_6').replace('\":7','_7').replace('\":8','_8').replace('\":9','_9')\n",
        "  if '0,\"' or '1,\"' or '2,\"' or '3,\"' or '4,\"' or '5,\"' or '6,\"' or '7,\"' or '8,\"' or '9,\"' in df[byColumn].iloc[i]:\n",
        "    df[byColumn].iloc[i] = df[byColumn].iloc[i].replace('0,\"','0_').replace('1,\"','1_').replace('2,\"','2_').replace('3,\"','3_').replace('4,\"','4_').replace('5,\"','5_').replace('6,\"','6_').replace('7,\"','7_').replace('8,\"','8_').replace('9,\"','9_')\n",
        "\n",
        "for i in df.index:\n",
        "  if '\":\"' or '\",\"' or '{\"' or '\":0,\"' or \"]\" in df[byColumn].iloc[i]:\n",
        "    df[byColumn].iloc[i] = df[byColumn].iloc[i].replace('\":\"', \"_\").replace('\",\"', \"_\").replace('{\"', \"_\").replace('\":0,\"', \"_0\").replace(\"]\", \"_\")\n"
      ],
      "metadata": {
        "id": "ZuwB1b8xzKu5"
      },
      "execution_count": 3,
      "outputs": []
    },
    {
      "cell_type": "code",
      "source": [
        "split_df= df[byColumn].str.split('_', expand=True)\n",
        "\n",
        "new_df = pd.concat([df['INFORMASI DASAR'], split_df, df['RESPONSE']], axis=1)\n",
        "\n",
        "new_df.to_excel('hasil.xlsx', index=False)"
      ],
      "metadata": {
        "id": "9NsnTDAUzRMi"
      },
      "execution_count": 4,
      "outputs": []
    }
  ]
}